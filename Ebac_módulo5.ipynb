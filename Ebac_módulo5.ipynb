{
  "nbformat": 4,
  "nbformat_minor": 0,
  "metadata": {
    "colab": {
      "provenance": [],
      "authorship_tag": "ABX9TyP/rjpACw/tC4qLTR1Z9zG6",
      "include_colab_link": true
    },
    "kernelspec": {
      "name": "python3",
      "display_name": "Python 3"
    },
    "language_info": {
      "name": "python"
    }
  },
  "cells": [
    {
      "cell_type": "markdown",
      "metadata": {
        "id": "view-in-github",
        "colab_type": "text"
      },
      "source": [
        "<a href=\"https://colab.research.google.com/github/Cybermts/Modulo-5/blob/main/Ebac_m%C3%B3dulo5.ipynb\" target=\"_parent\"><img src=\"https://colab.research.google.com/assets/colab-badge.svg\" alt=\"Open In Colab\"/></a>"
      ]
    },
    {
      "cell_type": "markdown",
      "source": [
        "#0 Preparação do ambiente.\n",
        "\n",
        "\n",
        "Neste exercício vamos trabalhar com o arquivo csv com dados de crédito, definido abaixo.\n",
        "Execute cada uma das células de código para escrever os arquivos na sua máquina virtual.\n"
      ],
      "metadata": {
        "id": "cLrkjMAsSODK"
      }
    },
    {
      "cell_type": "code",
      "source": [
        "%%writefile credito.csv\n",
        "id_vendedor,valor_emprestimos,quantidade_emprestimos,data\n",
        "104271,448.0,1,20161208\n",
        "21476,826.7,3,20161208\n",
        "87440,313.6,3,20161208\n",
        "15980,-8008.0,6,20161208\n",
        "215906,2212.0,5,20161208\n",
        "33696,2771.3,2,20161208\n",
        "33893,2240.0,3,20161208\n",
        "214946,-4151.0,18,20161208\n",
        "123974,2021.95,2,20161208\n",
        "225870,4039.0,2,20161208"
      ],
      "metadata": {
        "colab": {
          "base_uri": "https://localhost:8080/"
        },
        "id": "ykSdMTL3SWBs",
        "outputId": "99eebe1a-4e67-45d2-b85a-b3e8cf82472b"
      },
      "execution_count": 2,
      "outputs": [
        {
          "output_type": "stream",
          "name": "stdout",
          "text": [
            "Writing credito.csv\n"
          ]
        }
      ]
    },
    {
      "cell_type": "markdown",
      "source": [
        "Vamos ler o conteúdo do arquivo em uma lista onde cada elemento é um dicionário\n",
        "representando as linhas do arquivo.\n"
      ],
      "metadata": {
        "id": "n9NU3dPPScZh"
      }
    },
    {
      "cell_type": "code",
      "source": [
        "emprestimos = []\n",
        "with open(file='./credito.csv', mode='r', encoding='utf8') as fp:\n",
        "  fp.readline() # cabeçalho\n",
        "  linha = fp.readline()\n",
        "  while linha:\n",
        "    linha_emprestimo = {}\n",
        "    linha_elementos = linha.strip().split(sep=',')\n",
        "    linha_emprestimo['id_vendedor'] = linha_elementos[0]\n",
        "    linha_emprestimo['valor_emprestimos'] = linha_elementos[1]\n",
        "    linha_emprestimo['quantidade_emprestimos'] = linha_elementos[2]\n",
        "    linha_emprestimo['data'] = linha_elementos[3]\n",
        "    emprestimos.append(linha_emprestimo)\n",
        "    linha = fp.readline()\n"
      ],
      "metadata": {
        "id": "kstVzSOKSeGH"
      },
      "execution_count": 3,
      "outputs": []
    },
    {
      "cell_type": "code",
      "source": [
        "for emprestimo in emprestimos:\n",
        "   print(emprestimo)"
      ],
      "metadata": {
        "colab": {
          "base_uri": "https://localhost:8080/"
        },
        "id": "bqAb51nGS5XB",
        "outputId": "9989dd30-27e2-4bd1-b279-56ef8156ab88"
      },
      "execution_count": 4,
      "outputs": [
        {
          "output_type": "stream",
          "name": "stdout",
          "text": [
            "{'id_vendedor': '104271', 'valor_emprestimos': '448.0', 'quantidade_emprestimos': '1', 'data': '20161208'}\n",
            "{'id_vendedor': '21476', 'valor_emprestimos': '826.7', 'quantidade_emprestimos': '3', 'data': '20161208'}\n",
            "{'id_vendedor': '87440', 'valor_emprestimos': '313.6', 'quantidade_emprestimos': '3', 'data': '20161208'}\n",
            "{'id_vendedor': '15980', 'valor_emprestimos': '-8008.0', 'quantidade_emprestimos': '6', 'data': '20161208'}\n",
            "{'id_vendedor': '215906', 'valor_emprestimos': '2212.0', 'quantidade_emprestimos': '5', 'data': '20161208'}\n",
            "{'id_vendedor': '33696', 'valor_emprestimos': '2771.3', 'quantidade_emprestimos': '2', 'data': '20161208'}\n",
            "{'id_vendedor': '33893', 'valor_emprestimos': '2240.0', 'quantidade_emprestimos': '3', 'data': '20161208'}\n",
            "{'id_vendedor': '214946', 'valor_emprestimos': '-4151.0', 'quantidade_emprestimos': '18', 'data': '20161208'}\n",
            "{'id_vendedor': '123974', 'valor_emprestimos': '2021.95', 'quantidade_emprestimos': '2', 'data': '20161208'}\n",
            "{'id_vendedor': '225870', 'valor_emprestimos': '4039.0', 'quantidade_emprestimos': '2', 'data': '20161208'}\n"
          ]
        }
      ]
    },
    {
      "cell_type": "markdown",
      "source": [
        "**1. Função map**\n",
        "\n",
        "Aplique a função map na lista de emprestimos para extrair os valores da chave\n",
        "valor_emprestimos na lista valor_emprestimos_lista . Faça também a conversão\n",
        "de str para float .\n"
      ],
      "metadata": {
        "id": "VxcDY0fgS9sW"
      }
    },
    {
      "cell_type": "code",
      "source": [
        "valor_emprestimos_lista = list(map(lambda emprestimos: float(emprestimos ['valor_emprestimos']), emprestimos))\n",
        "print (valor_emprestimos_lista)"
      ],
      "metadata": {
        "colab": {
          "base_uri": "https://localhost:8080/"
        },
        "id": "0rSAujqVqmKL",
        "outputId": "087d5064-6ce0-4c41-f722-6e067463eaf1"
      },
      "execution_count": 5,
      "outputs": [
        {
          "output_type": "stream",
          "name": "stdout",
          "text": [
            "[448.0, 826.7, 313.6, -8008.0, 2212.0, 2771.3, 2240.0, -4151.0, 2021.95, 4039.0]\n"
          ]
        }
      ]
    },
    {
      "cell_type": "markdown",
      "source": [
        "#2 Função filter\n",
        "\n",
        "\n",
        "Aplique a função filter na lista de valor_emprestimos_lista para filtrar apenas os valores\n",
        "maiores que zero (os valores negativas são erros na base de dados). Salve os valores na lista\n",
        "valor_emprestimos_lista_filtrada ."
      ],
      "metadata": {
        "id": "QPqsXYQumRxg"
      }
    },
    {
      "cell_type": "code",
      "source": [
        "valor_emprestimos_lista_filtrada = list(filter(lambda x: x > 1 != 0, valor_emprestimos_lista))\n",
        "print(valor_emprestimos_lista_filtrada)"
      ],
      "metadata": {
        "colab": {
          "base_uri": "https://localhost:8080/"
        },
        "id": "gzCGjjW-AniH",
        "outputId": "7c717dfd-d45b-472d-8241-40021c989173"
      },
      "execution_count": 6,
      "outputs": [
        {
          "output_type": "stream",
          "name": "stdout",
          "text": [
            "[448.0, 826.7, 313.6, 2212.0, 2771.3, 2240.0, 2021.95, 4039.0]\n"
          ]
        }
      ]
    },
    {
      "cell_type": "markdown",
      "source": [
        "#3. Função reduce\n",
        "\n",
        "Com a nossa lista de valores de emprestimo pronta, vamos extrair algumas métricas.\n",
        "\n",
        "\n",
        "**3.1. Função reduce para extrair a soma**\n",
        "\n",
        "Aplique a função reduce para somar os elementos da lista\n",
        "valor_emprestimos_lista_filtrada na variavel soma_valor_emprestimos .\n"
      ],
      "metadata": {
        "id": "jvFo60Xxw7rU"
      }
    },
    {
      "cell_type": "code",
      "source": [
        "from functools import reduce\n",
        "soma_valor_emprestimos = reduce(lambda x,y: x+y, valor_emprestimos_lista_filtrada)\n",
        "print(soma_valor_emprestimos)"
      ],
      "metadata": {
        "id": "7Vy_-IY3e9RQ",
        "colab": {
          "base_uri": "https://localhost:8080/"
        },
        "outputId": "4501c47b-e89c-41d0-9df5-60cb15ab2ecf"
      },
      "execution_count": 7,
      "outputs": [
        {
          "output_type": "stream",
          "name": "stdout",
          "text": [
            "14872.550000000001\n"
          ]
        }
      ]
    },
    {
      "cell_type": "markdown",
      "source": [
        "#3.2. Função reduce para extrair a media aritimética\n",
        "Aplique a função reduce para extrair a média aritimética (mais informações aqui) dos elementos\n",
        "da lista valor_emprestimos_lista_filtrada na variavel\n",
        "media_valor_emprestimos ."
      ],
      "metadata": {
        "id": "3gatWDa8D5Fj"
      }
    },
    {
      "cell_type": "code",
      "source": [
        "from functools import reduce\n",
        "media_valor_emprestimos = reduce(lambda x,y: x+y, valor_emprestimos_lista_filtrada) /len(valor_emprestimos_lista_filtrada)\n",
        "print (media_valor_emprestimos)\n"
      ],
      "metadata": {
        "id": "zIOJzLV3EEod",
        "colab": {
          "base_uri": "https://localhost:8080/"
        },
        "outputId": "6f90dc18-dd8a-47bc-a3fd-1bad1c9050a4"
      },
      "execution_count": 8,
      "outputs": [
        {
          "output_type": "stream",
          "name": "stdout",
          "text": [
            "1859.0687500000001\n"
          ]
        }
      ]
    }
  ]
}